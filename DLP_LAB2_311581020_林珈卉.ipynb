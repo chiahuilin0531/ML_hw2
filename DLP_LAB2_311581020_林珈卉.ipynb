{
 "cells": [
  {
   "cell_type": "markdown",
   "metadata": {},
   "source": [
    "# Lab2 Classification\n",
    "## The Simpsons Characters Recognition Challenge II"
   ]
  },
  {
   "cell_type": "code",
   "execution_count": 1,
   "metadata": {},
   "outputs": [],
   "source": [
    "# import sys \n",
    "# sys.path.append(\"C:\\\\Users\\\\USER\\\\Documents\\\\NYCU\\\\DL\\\\Lab2\")"
   ]
  },
  {
   "cell_type": "code",
   "execution_count": 2,
   "metadata": {},
   "outputs": [],
   "source": [
    "from dataloader import SimpsonsLoader\n",
    "from torch.utils.data import DataLoader\n",
    "import os\n",
    "import numpy as np\n",
    "import torch\n",
    "import torch.nn as nn\n",
    "import torch.nn.functional as F\n",
    "import torch.optim as optim\n",
    "from torch.autograd import Variable\n",
    "from torch.utils.data.sampler import SubsetRandomSampler\n",
    "import torchvision.models as models\n",
    "import torchvision.transforms as transforms\n",
    "import matplotlib.pyplot as plt\n",
    "import random\n",
    "import csv\n",
    "from tqdm import tqdm\n",
    "# from sklearn.metrics import roc_auc_score, precision_score, recall_score, accuracy_score\n",
    "from sklearn.metrics import confusion_matrix\n",
    "from sklearn.metrics import ConfusionMatrixDisplay\n"
   ]
  },
  {
   "cell_type": "code",
   "execution_count": 3,
   "metadata": {},
   "outputs": [
    {
     "data": {
      "text/plain": [
       "device(type='cuda', index=0)"
      ]
     },
     "execution_count": 3,
     "metadata": {},
     "output_type": "execute_result"
    }
   ],
   "source": [
    "device=torch.device('cuda:0' if torch.cuda.is_available() else 'cpu')\n",
    "device"
   ]
  },
  {
   "cell_type": "code",
   "execution_count": 4,
   "metadata": {},
   "outputs": [],
   "source": [
    "batch_size = 64\n",
    "epochs = 10\n",
    "learning_rate = 1e-2\n",
    "momentum = 0.9\n",
    "weight_decay = 5e-4\n",
    "num_classes = 50\n",
    "criterion = nn.CrossEntropyLoss()\n",
    "image_size=(224,224)\n",
    "path = \"saved_model/pre_resnet18_v1\"\n",
    "\n",
    "isExist = os.path.exists(path)\n",
    "if not isExist:\n",
    "   os.makedirs(path)\n",
    "   \n",
    "# criterion = nn.BCELoss()\n",
    "# optimizer = optim.SGD(Net.parameters(), lr = learning_rate, momentum = momentum, weight_decay=weight_decay)"
   ]
  },
  {
   "cell_type": "markdown",
   "metadata": {},
   "source": [
    "## Define Model Class"
   ]
  },
  {
   "cell_type": "code",
   "execution_count": 5,
   "metadata": {},
   "outputs": [],
   "source": [
    "class DeepConvNet(nn.Module):\n",
    "\n",
    "    def __init__(self, act = \"ELU\") -> None:\n",
    "        super(DeepConvNet, self).__init__()\n",
    "\n",
    "        self.C = 2\n",
    "        self.T = 750\n",
    "        self.N = 2\n",
    "\n",
    "        self.conv1 = nn.Conv2d(3, 25, kernel_size=(1, 5), stride=(1, 1), padding='valid', bias=True)\n",
    "        self.conv2 = nn.Conv2d(25, 25, kernel_size=(self.C, 1), stride=(1, 1), padding='valid', bias=True)\n",
    "        self.bn1 = nn.BatchNorm2d(25, eps=1e-05, momentum=0.1, affine=True, track_running_stats=True)\n",
    "        \n",
    "        self.conv3 = nn.Conv2d(25, 50, kernel_size=(1, 5), stride=(1, 1), padding='valid', bias=True)\n",
    "        self.bn2 = nn.BatchNorm2d(50, eps=1e-05, momentum=0.1, affine=True, track_running_stats=True)\n",
    "\n",
    "        self.conv4 = nn.Conv2d(50, 100, kernel_size=(1, 5), stride=(1, 1), padding='valid', bias=True)\n",
    "        self.bn3 = nn.BatchNorm2d(100, eps=1e-05, momentum=0.1, affine=True, track_running_stats=True)\n",
    "\n",
    "        self.conv5 = nn.Conv2d(100, 200, kernel_size=(1, 5), stride=(1, 1), padding='valid', bias=True)\n",
    "        self.bn4 = nn.BatchNorm2d(200, eps=1e-05, momentum=0.1, affine=True, track_running_stats=True)\n",
    "\n",
    "        self.maxpool = nn.MaxPool2d(kernel_size=(1, 2), stride=(1, 2), padding=0)\n",
    "        self.dropout = nn.Dropout(p=0.5)\n",
    "        self.dense = nn.Linear(in_features=200*43, out_features=num_classes, bias=True)\n",
    "        if (act == \"RELU\"):\n",
    "            self.act = nn.ReLU()\n",
    "        elif (act == \"leakyRELU\"):\n",
    "            self.act = nn.LeakyReLU()\n",
    "        else:\n",
    "            self.act = nn.ELU()\n",
    "\n",
    "    def forward(self, x):\n",
    "        \n",
    "        x = self.conv1(x)\n",
    "        x = self.conv2(x)\n",
    "        x = self.bn1(x)\n",
    "        x = self.act(x)\n",
    "        x = self.maxpool(x)\n",
    "        x = self.dropout(x)\n",
    "        \n",
    "        x = self.conv3(x)\n",
    "        x = self.bn2(x)\n",
    "        x = self.act(x)\n",
    "        x = self.maxpool(x)\n",
    "        x = self.dropout(x)\n",
    "        \n",
    "        x = self.conv4(x)\n",
    "        x = self.bn3(x)\n",
    "        x = self.act(x)\n",
    "        x = self.maxpool(x)\n",
    "        x = self.dropout(x)\n",
    "        \n",
    "        x = self.conv5(x)\n",
    "        x = self.bn4(x)\n",
    "        x = self.act(x)\n",
    "        x = self.maxpool(x)\n",
    "        x = self.dropout(x)\n",
    "\n",
    "        x = x.view(-1, 200*43)\n",
    "        x = self.dense(x)\n",
    "\n",
    "        return x\n",
    "    \n",
    "    def record_history(self, loss_history, train_accuracy_history, test_accuracy_history):\n",
    "        self.loss_history = loss_history\n",
    "        self.train_accuracy_history = train_accuracy_history\n",
    "        self.test_accuracy_history = test_accuracy_history"
   ]
  },
  {
   "cell_type": "code",
   "execution_count": 6,
   "metadata": {},
   "outputs": [],
   "source": [
    "class EEGNet(nn.Module):\n",
    "\n",
    "    def __init__(self, act = \"ELU\"):\n",
    "        super(EEGNet, self).__init__()\n",
    "        \n",
    "        if (act == \"RELU\"):\n",
    "            self.act = nn.ReLU()\n",
    "        elif (act == \"leakyRELU\"):\n",
    "            self.act = nn.LeakyReLU()\n",
    "        else:\n",
    "            self.act = nn.ELU(alpha=1.0)\n",
    "        \n",
    "        self.firstConv = nn.Sequential(\n",
    "            nn.Conv2d(3, 16, kernel_size=3, stride=1, padding=(0, 25), bias=False),\n",
    "            nn.BatchNorm2d(16, eps=1e-05, momentum=0.1, affine=True, track_running_stats=True)\n",
    "        )\n",
    "\n",
    "        self.depthwiseConv = nn.Sequential(\n",
    "            nn.Conv2d(16, 32, kernel_size=3, stride=1, groups=16, bias=False),\n",
    "            nn.BatchNorm2d(32, eps=1e-05, momentum=0.1, affine=True, track_running_stats=True),\n",
    "            self.act,\n",
    "            nn.AvgPool2d(kernel_size=3, stride=1, padding=0),\n",
    "            nn.Dropout(p=0.25)\n",
    "        )\n",
    "\n",
    "        self.separableConv = nn.Sequential(\n",
    "            nn.Conv2d(32, 32, kernel_size=3, stride=1, padding=(0, 7), bias=False),\n",
    "            nn.BatchNorm2d(32, eps=1e-05, momentum=0.1, affine=True, track_running_stats=True),\n",
    "            self.act,\n",
    "            nn.AvgPool2d(kernel_size=3, stride=1, padding=0),\n",
    "            nn.Dropout(p=0.25)\n",
    "        )\n",
    "\n",
    "        self.classify = nn.Sequential(\n",
    "            nn.Linear(in_features=223*4, out_features=num_classes, bias=True)\n",
    "        )\n",
    "\n",
    "    def forward(self, x):\n",
    "        \n",
    "        x = self.firstConv(x)\n",
    "        x = self.depthwiseConv(x)\n",
    "        x = self.separableConv(x)\n",
    "        x = x.view(-1, 223*4)\n",
    "        x = self.classify(x)\n",
    "        \n",
    "        return x\n",
    "    \n",
    "    def record_history(self, loss_history, train_accuracy_history, test_accuracy_history):\n",
    "        self.loss_history = loss_history\n",
    "        self.train_accuracy_history = train_accuracy_history\n",
    "        self.test_accuracy_history = test_accuracy_history"
   ]
  },
  {
   "cell_type": "code",
   "execution_count": 7,
   "metadata": {},
   "outputs": [],
   "source": [
    "# ref: https://towardsdev.com/implement-resnet-with-pytorch-a9fb40a77448\n",
    "\n",
    "class ResBlock(nn.Module):\n",
    "    def __init__(self, in_channels, out_channels, downsample):\n",
    "        super().__init__()\n",
    "        if downsample:\n",
    "            self.conv1 = nn.Conv2d(in_channels, out_channels, kernel_size=3, stride=2, padding=1)\n",
    "            self.shortcut = nn.Sequential(\n",
    "                nn.Conv2d(in_channels, out_channels, kernel_size=1, stride=2),\n",
    "                nn.BatchNorm2d(out_channels)\n",
    "            )\n",
    "        else:\n",
    "            self.conv1 = nn.Conv2d(in_channels, out_channels, kernel_size=3, stride=1, padding=1)\n",
    "            self.shortcut = nn.Sequential()\n",
    "\n",
    "        self.conv2 = nn.Conv2d(out_channels, out_channels, kernel_size=3, stride=1, padding=1)\n",
    "        self.bn1 = nn.BatchNorm2d(out_channels)\n",
    "        self.bn2 = nn.BatchNorm2d(out_channels)\n",
    "\n",
    "    def forward(self, input):\n",
    "        shortcut = self.shortcut(input)\n",
    "        input = nn.ReLU()(self.bn1(self.conv1(input)))\n",
    "        input = nn.ReLU()(self.bn2(self.conv2(input)))\n",
    "        input = input + shortcut\n",
    "        return nn.ReLU()(input)\n"
   ]
  },
  {
   "cell_type": "code",
   "execution_count": 8,
   "metadata": {},
   "outputs": [],
   "source": [
    "class ResBottleneckBlock(nn.Module):\n",
    "    def __init__(self, in_channels, out_channels, downsample):\n",
    "        super().__init__()\n",
    "        self.downsample = downsample\n",
    "        self.conv1 = nn.Conv2d(in_channels, out_channels//4, kernel_size=1, stride=1)\n",
    "        self.conv2 = nn.Conv2d(out_channels//4, out_channels//4, kernel_size=3, stride=2 if downsample else 1, padding=1)\n",
    "        self.conv3 = nn.Conv2d(out_channels//4, out_channels, kernel_size=1, stride=1)\n",
    "        self.shortcut = nn.Sequential()\n",
    "        \n",
    "        if self.downsample or in_channels != out_channels:\n",
    "            self.shortcut = nn.Sequential(\n",
    "                nn.Conv2d(in_channels, out_channels, kernel_size=1, stride=2 if self.downsample else 1),\n",
    "                nn.BatchNorm2d(out_channels)\n",
    "            )\n",
    "\n",
    "        self.bn1 = nn.BatchNorm2d(out_channels//4)\n",
    "        self.bn2 = nn.BatchNorm2d(out_channels//4)\n",
    "        self.bn3 = nn.BatchNorm2d(out_channels)\n",
    "\n",
    "    def forward(self, input):\n",
    "        shortcut = self.shortcut(input)\n",
    "        input = nn.ReLU()(self.bn1(self.conv1(input)))\n",
    "        input = nn.ReLU()(self.bn2(self.conv2(input)))\n",
    "        input = nn.ReLU()(self.bn3(self.conv3(input)))\n",
    "        input = input + shortcut\n",
    "        return nn.ReLU()(input)\n"
   ]
  },
  {
   "cell_type": "code",
   "execution_count": 9,
   "metadata": {},
   "outputs": [],
   "source": [
    "class ResNet(nn.Module):\n",
    "\n",
    "    def __init__(self, in_channels, resblock, repeat, useBottleneck=False, outputs=1000) -> None:\n",
    "        super(ResNet, self).__init__()\n",
    "\n",
    "        self.loss_history = []\n",
    "        self.train_accuracy_history = []\n",
    "        self.test_accuracy_history = []\n",
    "\n",
    "        if useBottleneck:\n",
    "            self.filters = [64, 256, 512, 1024, 2048]\n",
    "        else:\n",
    "            self.filters = [64, 64, 128, 256, 512]\n",
    "\n",
    "        self.layer0 = nn.Sequential(\n",
    "            nn.Conv2d(in_channels, 64, kernel_size=(7, 7), stride=(2, 2), padding=(3, 3), bias=False),\n",
    "            nn.BatchNorm2d(64, eps=1e-05, momentum=0.1, affine=True, track_running_stats=True),\n",
    "            nn.ReLU(),\n",
    "            nn.MaxPool2d(kernel_size=3, stride=2, padding=1, dilation=1, ceil_mode=False)\n",
    "        )\n",
    "\n",
    "        self.layer1 = nn.Sequential()\n",
    "        self.layer1.add_module('conv1_1', resblock(self.filters[0], self.filters[1], downsample=False))\n",
    "        for i in range(1, repeat[0]):\n",
    "                self.layer1.add_module('conv1_%d'%(i+1,), resblock(self.filters[1], self.filters[1], downsample=False))\n",
    "\n",
    "        self.layer2 = nn.Sequential()\n",
    "        self.layer2.add_module('conv2_1', resblock(self.filters[1], self.filters[2], downsample=True))\n",
    "        for i in range(1, repeat[1]):\n",
    "                self.layer2.add_module('conv2_%d' % (i+1,), resblock(self.filters[2], self.filters[2], downsample=False))\n",
    "\n",
    "        self.layer3 = nn.Sequential()\n",
    "        self.layer3.add_module('conv3_1', resblock(self.filters[2], self.filters[3], downsample=True))\n",
    "        for i in range(1, repeat[2]):\n",
    "            self.layer3.add_module('conv3_%d' % (i+1,), resblock(self.filters[3], self.filters[3], downsample=False))\n",
    "\n",
    "        self.layer4 = nn.Sequential()\n",
    "        self.layer4.add_module('conv4_1', resblock(self.filters[3], self.filters[4], downsample=True))\n",
    "        for i in range(1, repeat[3]):\n",
    "            self.layer4.add_module('conv4_%d'%(i+1,), resblock(self.filters[4], self.filters[4], downsample=False))\n",
    "        \n",
    "        self.avgpool = nn.AdaptiveAvgPool2d(1)\n",
    "        # self.avgpool = nn.AvgPool2d(kernel_size=7, stride=1, padding=0)\n",
    "        self.fc = nn.Linear(in_features=self.filters[4], out_features=outputs, bias=True)\n",
    "\n",
    "    def forward(self, x):\n",
    "        x = self.layer0(x)\n",
    "        x = self.layer1(x)\n",
    "        x = self.layer2(x)\n",
    "        x = self.layer3(x)\n",
    "        x = self.layer4(x)\n",
    "        x = self.avgpool(x)\n",
    "        x = x.view(x.size(0), -1)\n",
    "        x = self.fc(x)\n",
    "\n",
    "        return x\n",
    "    \n",
    "    def record_history(self, loss_history, train_accuracy_history, test_accuracy_history):\n",
    "        if loss_history is not None:\n",
    "            self.loss_history.append(loss_history)\n",
    "        self.train_accuracy_history.append(train_accuracy_history)\n",
    "        self.test_accuracy_history.append(test_accuracy_history)"
   ]
  },
  {
   "cell_type": "markdown",
   "metadata": {},
   "source": [
    "## Datasets"
   ]
  },
  {
   "cell_type": "markdown",
   "metadata": {},
   "source": [
    "### Transform"
   ]
  },
  {
   "cell_type": "code",
   "execution_count": 10,
   "metadata": {},
   "outputs": [],
   "source": [
    "normalize = transforms.Normalize(mean=[0.485, 0.456, 0.406], std=[0.229, 0.224, 0.225])\n",
    "\n",
    "train_transforms=transforms.Compose([\n",
    "    transforms.Resize(image_size),\n",
    "    # transforms.RandomApply(transforms=[transforms.RandomCrop(image_size, padding=(40,40,40,40), pad_if_needed=False)], p=0.5),\n",
    "    transforms.RandomApply(transforms=[transforms.RandomAffine(degrees=(-30,30), translate=(0.15,0.15), scale=(0.9,1.3), shear=(0,20))],p=0.5),\n",
    "    transforms.RandomHorizontalFlip(p=0.5),\n",
    "    transforms.ToTensor(),\n",
    "    normalize\n",
    "])\n",
    "\n",
    "test_transforms=transforms.Compose([\n",
    "    transforms.Resize(image_size),\n",
    "    transforms.ToTensor(),\n",
    "    normalize\n",
    "])"
   ]
  },
  {
   "cell_type": "markdown",
   "metadata": {},
   "source": [
    "### Load Datasets"
   ]
  },
  {
   "cell_type": "code",
   "execution_count": 11,
   "metadata": {},
   "outputs": [
    {
     "name": "stdout",
     "output_type": "stream",
     "text": [
      "> Found 96929 images...\n"
     ]
    }
   ],
   "source": [
    "train_data = SimpsonsLoader(\".\", \"train\", train_transforms)\n",
    "\n",
    "n_train = len(train_data)\n",
    "split = n_train // 3\n",
    "indices = list(range(n_train))\n",
    "random.shuffle(indices)\n",
    "\n",
    "train_sampler = SubsetRandomSampler(indices[split:])\n",
    "valid_sampler = SubsetRandomSampler(indices[:split])\n",
    "\n",
    "train_loader = DataLoader(train_data, batch_size, shuffle=False, drop_last=False, \n",
    "                            sampler=train_sampler, num_workers=4, prefetch_factor=4)\n",
    "\n",
    "valid_loader = DataLoader(train_data, batch_size, shuffle=False, drop_last=False, \n",
    "                            sampler=valid_sampler, num_workers=4, prefetch_factor=4)\n"
   ]
  },
  {
   "cell_type": "markdown",
   "metadata": {},
   "source": [
    "## Train/Test Functions"
   ]
  },
  {
   "cell_type": "code",
   "execution_count": 12,
   "metadata": {},
   "outputs": [],
   "source": [
    "def evaluate(model, dataloader, batch_size, ispretrained=False):\n",
    "    results = []\n",
    "    pbar = tqdm(enumerate(dataloader), total=len(dataloader), \n",
    "                ncols=200, desc=f'Evaluation: ')\n",
    "    for step, (inputs, labels) in pbar:\n",
    "\n",
    "        inputs = inputs.to(device)\n",
    "        labels = labels.cpu().numpy()\n",
    "        # inputs = Variable(torch.from_numpy(inputs).to(device, dtype=torch.float).cuda(0))\n",
    "        pred = model(inputs)\n",
    "        predicted = torch.argmax(pred, dim=1).flatten().cpu().numpy()\n",
    "        results.append((predicted == labels).astype(float).sum())\n",
    "        \n",
    "    result = sum(results)/len(dataloader)/batch_size\n",
    "    \n",
    "    return result"
   ]
  },
  {
   "cell_type": "code",
   "execution_count": 13,
   "metadata": {},
   "outputs": [],
   "source": [
    "def train(train_loader, test_loader, model, optimizer, epochs, path, ispretrained=False):\n",
    "    best_test_acc = -np.inf\n",
    "\n",
    "    for epo in range(epochs):  # loop over the dataset multiple times\n",
    "        # Training\n",
    "        # print(\"epoch\", epo)\n",
    "        model.train()\n",
    "        running_loss = 0.0\n",
    "        epoch = epo+1\n",
    "        pbar = tqdm(enumerate(train_loader), total=len(train_loader), \n",
    "                    ncols=200, desc=f'Epoch {epoch:3d}: ')\n",
    "\n",
    "        for step, (x, y) in pbar:\n",
    "\n",
    "            x = x.to(device)\n",
    "            y = y.to(device)\n",
    "\n",
    "            optimizer.zero_grad()\n",
    "            result = model(x)\n",
    "            loss = criterion(result, y)\n",
    "            loss.backward()\n",
    "            optimizer.step()\n",
    "            \n",
    "            running_loss += loss.item()\n",
    "        \n",
    "        # torch.save(model, f\"./{path}/epo{epoch}_bf_eval.pth\")\n",
    "\n",
    "        # Validation accuracy\n",
    "        model.eval()\n",
    "        print(\"eval training data\")\n",
    "        accuracy_train = evaluate(model, train_loader, batch_size, ispretrained)\n",
    "        print (\"Train - \", accuracy_train)\n",
    "        print(\"eval testing data\")\n",
    "        accuracy_test = evaluate(model, test_loader, batch_size, ispretrained)\n",
    "        print (\"Test - \", accuracy_test)\n",
    "\n",
    "        if accuracy_test > best_test_acc:\n",
    "            best_test_acc = accuracy_test\n",
    "            print(\"epoch:\", epoch, \", best_test_acc:\", best_test_acc)\n",
    "            torch.save(model, f\"./{path}/best_accuracy_at_epo{epoch}.pth\")\n",
    "\n",
    "        torch.save(model, f\"./{path}/epo{epoch}.pth\")\n"
   ]
  },
  {
   "cell_type": "code",
   "execution_count": 14,
   "metadata": {},
   "outputs": [],
   "source": [
    "def get_prediction_result(model, dataloader):\n",
    "    model.eval()\n",
    "    prediction=torch.tensor([])\n",
    "    labels = torch.tensor([])\n",
    "    pbar = tqdm(enumerate(dataloader), total=len(dataloader), \n",
    "                ncols=100, desc=f'Evaluation: ')\n",
    "    for step, (x, y) in pbar:\n",
    "        x = x.float().cuda(device)\n",
    "        y = y.long().cuda(device)\n",
    "        result = model(x)\n",
    "        batch_prediction=result.argmax(dim=1).cpu()\n",
    "        prediction=torch.cat([prediction, batch_prediction])\n",
    "        labels=torch.cat([labels, y.cpu()])\n",
    "    return prediction.numpy(), labels.numpy()\n"
   ]
  },
  {
   "cell_type": "code",
   "execution_count": 29,
   "metadata": {},
   "outputs": [],
   "source": [
    "def get_prediction_result_wo_label(model, test_data):\n",
    "    model.eval()\n",
    "    prediction=torch.tensor([])\n",
    "    # pbar = tqdm(enumerate(test_data), total=len(test_data), \n",
    "    #             ncols=100, desc=f'Evaluation: ')\n",
    "    for (x, _) in test_data:\n",
    "        x = torch.unsqueeze(x, 0).float().cuda(device)\n",
    "        result = model(x)\n",
    "        batch_prediction=result.argmax(dim=1).cpu()\n",
    "        prediction=torch.cat([prediction, batch_prediction])\n",
    "\n",
    "    return prediction.numpy()"
   ]
  },
  {
   "cell_type": "code",
   "execution_count": 16,
   "metadata": {},
   "outputs": [],
   "source": [
    "# from math import ceil, floor\n",
    "\n",
    "# def train(net, optimizer):\n",
    "#     loss_history = []\n",
    "#     accuracy_train_history = []\n",
    "#     accuracy_test_history = []\n",
    "\n",
    "#     for epoch in range(epochs):  # loop over the dataset multiple times\n",
    "#         print (\"\\nEpoch \", epoch)\n",
    "        \n",
    "#         running_loss = 0.0\n",
    "#         for i in range(ceil(len(train_data)/batch_size)):\n",
    "#             # print (\"\\nBatch \", i)\n",
    "#             s = i*batch_size\n",
    "#             e = min(i*batch_size+batch_size, len(train_data))\n",
    "            \n",
    "#             inputs = torch.from_numpy(train_data[s:e])\n",
    "#             labels = torch.FloatTensor(np.array([train_label[s:e]]).T*1.0)\n",
    "#             inputs = inputs.to(device, dtype=torch.float)\n",
    "#             labels = labels.to(device, dtype=torch.long)\n",
    "            \n",
    "#             # wrap them in Variable\n",
    "#             inputs, labels = Variable(inputs.cuda(0), requires_grad=True), Variable(labels.cuda(0))\n",
    "\n",
    "#             # zero the parameter gradients\n",
    "#             optimizer.zero_grad()\n",
    "\n",
    "#             # forward + backward + optimize\n",
    "#             # print(inputs.shape)\n",
    "#             outputs = net(inputs)\n",
    "#             # print(outputs.shape, labels.shape)\n",
    "#             # print(outputs)\n",
    "#             # print(labels.flatten())\n",
    "#             # for x in zip(outputs, labels):\n",
    "#             #     print(x)\n",
    "                \n",
    "#             loss = criterion(outputs, labels.flatten())\n",
    "#             # print(loss)\n",
    "#             # loss = Variable(loss, requires_grad = True)\n",
    "#             loss.backward()\n",
    "            \n",
    "#             optimizer.step()\n",
    "#             running_loss += loss.item()\n",
    "#             # running_loss += loss.data[0]\n",
    "        \n",
    "#         # Validation accuracy\n",
    "#         params = [\"acc\", \"auc\", \"fmeasure\"]\n",
    "#         # print (params)\n",
    "#         loss_history.append(running_loss)\n",
    "#         accuracy_train_history.append(evaluate(net, train_data, train_label, params))\n",
    "#         accuracy_test_history.append(evaluate(net, test_data, test_label, params))\n",
    "#         print (\"Training Loss \", running_loss)\n",
    "#         print (\"Train - \", accuracy_train_history[-1])\n",
    "#         # print (\"Validation - \", evaluate(EEGnet, X_val, y_val, params))\n",
    "#         print (\"Test - \", accuracy_test_history[-1])\n",
    "\n",
    "#     net.record_history(loss_history, accuracy_train_history, accuracy_test_history)\n"
   ]
  },
  {
   "cell_type": "markdown",
   "metadata": {},
   "source": [
    "## Training & Evaluation"
   ]
  },
  {
   "cell_type": "code",
   "execution_count": 17,
   "metadata": {},
   "outputs": [],
   "source": [
    "# EEGnet_ELU = EEGNet(\"ELU\")\n",
    "# EEGnet_RELU = DeepConvNet(\"RELU\")\n",
    "# EEGnet_leakyRELU = DeepConvNet(\"leakyRELU\")\n",
    "\n",
    "# EEGnet_ELU.to(device)\n",
    "# EEGnet_RELU.to(device)\n",
    "# EEGnet_leakyRELU.to(device)\n",
    "\n",
    "# EEGnet_ELU = EEGnet_ELU.float()\n",
    "# EEGnet_RELU = EEGnet_RELU.float()\n",
    "# EEGnet_leakyRELU = EEGnet_leakyRELU.float()"
   ]
  },
  {
   "cell_type": "code",
   "execution_count": 18,
   "metadata": {},
   "outputs": [],
   "source": [
    "# DCnet_ELU = DeepConvNet(\"ELU\")\n",
    "# DCnet_RELU = DeepConvNet(\"RELU\")\n",
    "# DCnet_leakyRELU = DeepConvNet(\"leakyRELU\")\n",
    "\n",
    "# DCnet_ELU.to(device)\n",
    "# DCnet_RELU.to(device)\n",
    "# DCnet_leakyRELU.to(device)\n",
    "\n",
    "# DCnet_ELU = DCnet_ELU.float()\n",
    "# DCnet_RELU = DCnet_RELU.float()\n",
    "# DCnet_leakyRELU = DCnet_leakyRELU.float()"
   ]
  },
  {
   "cell_type": "code",
   "execution_count": 19,
   "metadata": {},
   "outputs": [
    {
     "name": "stderr",
     "output_type": "stream",
     "text": [
      "c:\\Users\\USER\\anaconda3\\lib\\site-packages\\torchvision\\models\\_utils.py:208: UserWarning: The parameter 'pretrained' is deprecated since 0.13 and will be removed in 0.15, please use 'weights' instead.\n",
      "  warnings.warn(\n",
      "c:\\Users\\USER\\anaconda3\\lib\\site-packages\\torchvision\\models\\_utils.py:223: UserWarning: Arguments other than a weight enum or `None` for 'weights' are deprecated since 0.13 and will be removed in 0.15. The current behavior is equivalent to passing `weights=ResNet18_Weights.IMAGENET1K_V1`. You can also use `weights=ResNet18_Weights.DEFAULT` to get the most up-to-date weights.\n",
      "  warnings.warn(msg)\n"
     ]
    },
    {
     "data": {
      "text/plain": [
       "ResNet(\n",
       "  (conv1): Conv2d(3, 64, kernel_size=(7, 7), stride=(2, 2), padding=(3, 3), bias=False)\n",
       "  (bn1): BatchNorm2d(64, eps=1e-05, momentum=0.1, affine=True, track_running_stats=True)\n",
       "  (relu): ReLU(inplace=True)\n",
       "  (maxpool): MaxPool2d(kernel_size=3, stride=2, padding=1, dilation=1, ceil_mode=False)\n",
       "  (layer1): Sequential(\n",
       "    (0): BasicBlock(\n",
       "      (conv1): Conv2d(64, 64, kernel_size=(3, 3), stride=(1, 1), padding=(1, 1), bias=False)\n",
       "      (bn1): BatchNorm2d(64, eps=1e-05, momentum=0.1, affine=True, track_running_stats=True)\n",
       "      (relu): ReLU(inplace=True)\n",
       "      (conv2): Conv2d(64, 64, kernel_size=(3, 3), stride=(1, 1), padding=(1, 1), bias=False)\n",
       "      (bn2): BatchNorm2d(64, eps=1e-05, momentum=0.1, affine=True, track_running_stats=True)\n",
       "    )\n",
       "    (1): BasicBlock(\n",
       "      (conv1): Conv2d(64, 64, kernel_size=(3, 3), stride=(1, 1), padding=(1, 1), bias=False)\n",
       "      (bn1): BatchNorm2d(64, eps=1e-05, momentum=0.1, affine=True, track_running_stats=True)\n",
       "      (relu): ReLU(inplace=True)\n",
       "      (conv2): Conv2d(64, 64, kernel_size=(3, 3), stride=(1, 1), padding=(1, 1), bias=False)\n",
       "      (bn2): BatchNorm2d(64, eps=1e-05, momentum=0.1, affine=True, track_running_stats=True)\n",
       "    )\n",
       "  )\n",
       "  (layer2): Sequential(\n",
       "    (0): BasicBlock(\n",
       "      (conv1): Conv2d(64, 128, kernel_size=(3, 3), stride=(2, 2), padding=(1, 1), bias=False)\n",
       "      (bn1): BatchNorm2d(128, eps=1e-05, momentum=0.1, affine=True, track_running_stats=True)\n",
       "      (relu): ReLU(inplace=True)\n",
       "      (conv2): Conv2d(128, 128, kernel_size=(3, 3), stride=(1, 1), padding=(1, 1), bias=False)\n",
       "      (bn2): BatchNorm2d(128, eps=1e-05, momentum=0.1, affine=True, track_running_stats=True)\n",
       "      (downsample): Sequential(\n",
       "        (0): Conv2d(64, 128, kernel_size=(1, 1), stride=(2, 2), bias=False)\n",
       "        (1): BatchNorm2d(128, eps=1e-05, momentum=0.1, affine=True, track_running_stats=True)\n",
       "      )\n",
       "    )\n",
       "    (1): BasicBlock(\n",
       "      (conv1): Conv2d(128, 128, kernel_size=(3, 3), stride=(1, 1), padding=(1, 1), bias=False)\n",
       "      (bn1): BatchNorm2d(128, eps=1e-05, momentum=0.1, affine=True, track_running_stats=True)\n",
       "      (relu): ReLU(inplace=True)\n",
       "      (conv2): Conv2d(128, 128, kernel_size=(3, 3), stride=(1, 1), padding=(1, 1), bias=False)\n",
       "      (bn2): BatchNorm2d(128, eps=1e-05, momentum=0.1, affine=True, track_running_stats=True)\n",
       "    )\n",
       "  )\n",
       "  (layer3): Sequential(\n",
       "    (0): BasicBlock(\n",
       "      (conv1): Conv2d(128, 256, kernel_size=(3, 3), stride=(2, 2), padding=(1, 1), bias=False)\n",
       "      (bn1): BatchNorm2d(256, eps=1e-05, momentum=0.1, affine=True, track_running_stats=True)\n",
       "      (relu): ReLU(inplace=True)\n",
       "      (conv2): Conv2d(256, 256, kernel_size=(3, 3), stride=(1, 1), padding=(1, 1), bias=False)\n",
       "      (bn2): BatchNorm2d(256, eps=1e-05, momentum=0.1, affine=True, track_running_stats=True)\n",
       "      (downsample): Sequential(\n",
       "        (0): Conv2d(128, 256, kernel_size=(1, 1), stride=(2, 2), bias=False)\n",
       "        (1): BatchNorm2d(256, eps=1e-05, momentum=0.1, affine=True, track_running_stats=True)\n",
       "      )\n",
       "    )\n",
       "    (1): BasicBlock(\n",
       "      (conv1): Conv2d(256, 256, kernel_size=(3, 3), stride=(1, 1), padding=(1, 1), bias=False)\n",
       "      (bn1): BatchNorm2d(256, eps=1e-05, momentum=0.1, affine=True, track_running_stats=True)\n",
       "      (relu): ReLU(inplace=True)\n",
       "      (conv2): Conv2d(256, 256, kernel_size=(3, 3), stride=(1, 1), padding=(1, 1), bias=False)\n",
       "      (bn2): BatchNorm2d(256, eps=1e-05, momentum=0.1, affine=True, track_running_stats=True)\n",
       "    )\n",
       "  )\n",
       "  (layer4): Sequential(\n",
       "    (0): BasicBlock(\n",
       "      (conv1): Conv2d(256, 512, kernel_size=(3, 3), stride=(2, 2), padding=(1, 1), bias=False)\n",
       "      (bn1): BatchNorm2d(512, eps=1e-05, momentum=0.1, affine=True, track_running_stats=True)\n",
       "      (relu): ReLU(inplace=True)\n",
       "      (conv2): Conv2d(512, 512, kernel_size=(3, 3), stride=(1, 1), padding=(1, 1), bias=False)\n",
       "      (bn2): BatchNorm2d(512, eps=1e-05, momentum=0.1, affine=True, track_running_stats=True)\n",
       "      (downsample): Sequential(\n",
       "        (0): Conv2d(256, 512, kernel_size=(1, 1), stride=(2, 2), bias=False)\n",
       "        (1): BatchNorm2d(512, eps=1e-05, momentum=0.1, affine=True, track_running_stats=True)\n",
       "      )\n",
       "    )\n",
       "    (1): BasicBlock(\n",
       "      (conv1): Conv2d(512, 512, kernel_size=(3, 3), stride=(1, 1), padding=(1, 1), bias=False)\n",
       "      (bn1): BatchNorm2d(512, eps=1e-05, momentum=0.1, affine=True, track_running_stats=True)\n",
       "      (relu): ReLU(inplace=True)\n",
       "      (conv2): Conv2d(512, 512, kernel_size=(3, 3), stride=(1, 1), padding=(1, 1), bias=False)\n",
       "      (bn2): BatchNorm2d(512, eps=1e-05, momentum=0.1, affine=True, track_running_stats=True)\n",
       "    )\n",
       "  )\n",
       "  (avgpool): AdaptiveAvgPool2d(output_size=(1, 1))\n",
       "  (fc): Linear(in_features=512, out_features=50, bias=True)\n",
       ")"
      ]
     },
     "execution_count": 19,
     "metadata": {},
     "output_type": "execute_result"
    }
   ],
   "source": [
    "# pre-trained\n",
    "pre_resnet18 = models.resnet18(pretrained = True)\n",
    "pre_resnet18.fc = nn.Linear(512, num_classes)\n",
    "pre_resnet18.to(device)\n",
    "\n",
    "\n",
    "# resnet18 = ResNet(3, ResBlock, [2, 2, 2, 2], useBottleneck=False, outputs=num_classes)\n",
    "# resnet18.to(torch.device(\"cuda:0\" if torch.cuda.is_available() else \"cpu\"))\n"
   ]
  },
  {
   "cell_type": "code",
   "execution_count": 20,
   "metadata": {},
   "outputs": [
    {
     "name": "stderr",
     "output_type": "stream",
     "text": [
      "Epoch   1: 100%|████████████████████████████████████████████████████████████████████████████████████████████████████████████████████████████████████████████████████| 1010/1010 [03:59<00:00,  4.22it/s]\n"
     ]
    },
    {
     "name": "stdout",
     "output_type": "stream",
     "text": [
      "eval training data\n"
     ]
    },
    {
     "name": "stderr",
     "output_type": "stream",
     "text": [
      "Evaluation: 100%|███████████████████████████████████████████████████████████████████████████████████████████████████████████████████████████████████████████████████| 1010/1010 [01:33<00:00, 10.85it/s]\n"
     ]
    },
    {
     "name": "stdout",
     "output_type": "stream",
     "text": [
      "Train -  15.323514851485148\n",
      "eval testing data\n"
     ]
    },
    {
     "name": "stderr",
     "output_type": "stream",
     "text": [
      "Evaluation: 100%|█████████████████████████████████████████████████████████████████████████████████████████████████████████████████████████████████████████████████████| 505/505 [00:47<00:00, 10.62it/s]\n"
     ]
    },
    {
     "name": "stdout",
     "output_type": "stream",
     "text": [
      "Test -  15.205940594059406\n",
      "epoch: 0 , best_test_acc: 15.205940594059406\n"
     ]
    },
    {
     "name": "stderr",
     "output_type": "stream",
     "text": [
      "Epoch   2: 100%|████████████████████████████████████████████████████████████████████████████████████████████████████████████████████████████████████████████████████| 1010/1010 [03:33<00:00,  4.72it/s]\n"
     ]
    },
    {
     "name": "stdout",
     "output_type": "stream",
     "text": [
      "eval training data\n"
     ]
    },
    {
     "name": "stderr",
     "output_type": "stream",
     "text": [
      "Evaluation: 100%|███████████████████████████████████████████████████████████████████████████████████████████████████████████████████████████████████████████████████| 1010/1010 [01:17<00:00, 13.08it/s]\n"
     ]
    },
    {
     "name": "stdout",
     "output_type": "stream",
     "text": [
      "Train -  15.601980198019803\n",
      "eval testing data\n"
     ]
    },
    {
     "name": "stderr",
     "output_type": "stream",
     "text": [
      "Evaluation: 100%|█████████████████████████████████████████████████████████████████████████████████████████████████████████████████████████████████████████████████████| 505/505 [00:31<00:00, 15.84it/s]\n"
     ]
    },
    {
     "name": "stdout",
     "output_type": "stream",
     "text": [
      "Test -  15.456435643564356\n",
      "epoch: 1 , best_test_acc: 15.456435643564356\n"
     ]
    },
    {
     "name": "stderr",
     "output_type": "stream",
     "text": [
      "Epoch   3: 100%|████████████████████████████████████████████████████████████████████████████████████████████████████████████████████████████████████████████████████| 1010/1010 [03:37<00:00,  4.64it/s]\n"
     ]
    },
    {
     "name": "stdout",
     "output_type": "stream",
     "text": [
      "eval training data\n"
     ]
    },
    {
     "name": "stderr",
     "output_type": "stream",
     "text": [
      "Evaluation: 100%|███████████████████████████████████████████████████████████████████████████████████████████████████████████████████████████████████████████████████| 1010/1010 [01:37<00:00, 10.35it/s]\n"
     ]
    },
    {
     "name": "stdout",
     "output_type": "stream",
     "text": [
      "Train -  15.769059405940594\n",
      "eval testing data\n"
     ]
    },
    {
     "name": "stderr",
     "output_type": "stream",
     "text": [
      "Evaluation: 100%|█████████████████████████████████████████████████████████████████████████████████████████████████████████████████████████████████████████████████████| 505/505 [00:53<00:00,  9.38it/s]\n"
     ]
    },
    {
     "name": "stdout",
     "output_type": "stream",
     "text": [
      "Test -  15.636138613861386\n",
      "epoch: 2 , best_test_acc: 15.636138613861386\n"
     ]
    },
    {
     "name": "stderr",
     "output_type": "stream",
     "text": [
      "Epoch   4: 100%|████████████████████████████████████████████████████████████████████████████████████████████████████████████████████████████████████████████████████| 1010/1010 [03:49<00:00,  4.39it/s]\n"
     ]
    },
    {
     "name": "stdout",
     "output_type": "stream",
     "text": [
      "eval training data\n"
     ]
    },
    {
     "name": "stderr",
     "output_type": "stream",
     "text": [
      "Evaluation: 100%|███████████████████████████████████████████████████████████████████████████████████████████████████████████████████████████████████████████████████| 1010/1010 [01:41<00:00,  9.92it/s]\n"
     ]
    },
    {
     "name": "stdout",
     "output_type": "stream",
     "text": [
      "Train -  15.836633663366337\n",
      "eval testing data\n"
     ]
    },
    {
     "name": "stderr",
     "output_type": "stream",
     "text": [
      "Evaluation: 100%|█████████████████████████████████████████████████████████████████████████████████████████████████████████████████████████████████████████████████████| 505/505 [00:53<00:00,  9.48it/s]\n"
     ]
    },
    {
     "name": "stdout",
     "output_type": "stream",
     "text": [
      "Test -  15.698514851485148\n",
      "epoch: 3 , best_test_acc: 15.698514851485148\n"
     ]
    },
    {
     "name": "stderr",
     "output_type": "stream",
     "text": [
      "Epoch   5: 100%|████████████████████████████████████████████████████████████████████████████████████████████████████████████████████████████████████████████████████| 1010/1010 [03:47<00:00,  4.44it/s]\n"
     ]
    },
    {
     "name": "stdout",
     "output_type": "stream",
     "text": [
      "eval training data\n"
     ]
    },
    {
     "name": "stderr",
     "output_type": "stream",
     "text": [
      "Evaluation: 100%|███████████████████████████████████████████████████████████████████████████████████████████████████████████████████████████████████████████████████| 1010/1010 [01:43<00:00,  9.73it/s]\n"
     ]
    },
    {
     "name": "stdout",
     "output_type": "stream",
     "text": [
      "Train -  15.74430693069307\n",
      "eval testing data\n"
     ]
    },
    {
     "name": "stderr",
     "output_type": "stream",
     "text": [
      "Evaluation: 100%|█████████████████████████████████████████████████████████████████████████████████████████████████████████████████████████████████████████████████████| 505/505 [00:54<00:00,  9.27it/s]\n"
     ]
    },
    {
     "name": "stdout",
     "output_type": "stream",
     "text": [
      "Test -  15.594059405940595\n"
     ]
    },
    {
     "name": "stderr",
     "output_type": "stream",
     "text": [
      "Epoch   6: 100%|████████████████████████████████████████████████████████████████████████████████████████████████████████████████████████████████████████████████████| 1010/1010 [04:10<00:00,  4.03it/s]\n"
     ]
    },
    {
     "name": "stdout",
     "output_type": "stream",
     "text": [
      "eval training data\n"
     ]
    },
    {
     "name": "stderr",
     "output_type": "stream",
     "text": [
      "Evaluation: 100%|███████████████████████████████████████████████████████████████████████████████████████████████████████████████████████████████████████████████████| 1010/1010 [01:38<00:00, 10.20it/s]\n"
     ]
    },
    {
     "name": "stdout",
     "output_type": "stream",
     "text": [
      "Train -  15.81980198019802\n",
      "eval testing data\n"
     ]
    },
    {
     "name": "stderr",
     "output_type": "stream",
     "text": [
      "Evaluation: 100%|█████████████████████████████████████████████████████████████████████████████████████████████████████████████████████████████████████████████████████| 505/505 [00:51<00:00,  9.87it/s]\n"
     ]
    },
    {
     "name": "stdout",
     "output_type": "stream",
     "text": [
      "Test -  15.694059405940594\n"
     ]
    },
    {
     "name": "stderr",
     "output_type": "stream",
     "text": [
      "Epoch   7: 100%|████████████████████████████████████████████████████████████████████████████████████████████████████████████████████████████████████████████████████| 1010/1010 [03:52<00:00,  4.34it/s]\n"
     ]
    },
    {
     "name": "stdout",
     "output_type": "stream",
     "text": [
      "eval training data\n"
     ]
    },
    {
     "name": "stderr",
     "output_type": "stream",
     "text": [
      "Evaluation: 100%|███████████████████████████████████████████████████████████████████████████████████████████████████████████████████████████████████████████████████| 1010/1010 [01:49<00:00,  9.19it/s]\n"
     ]
    },
    {
     "name": "stdout",
     "output_type": "stream",
     "text": [
      "Train -  15.840841584158415\n",
      "eval testing data\n"
     ]
    },
    {
     "name": "stderr",
     "output_type": "stream",
     "text": [
      "Evaluation: 100%|█████████████████████████████████████████████████████████████████████████████████████████████████████████████████████████████████████████████████████| 505/505 [01:02<00:00,  8.08it/s]\n"
     ]
    },
    {
     "name": "stdout",
     "output_type": "stream",
     "text": [
      "Test -  15.699009900990099\n",
      "epoch: 6 , best_test_acc: 15.699009900990099\n"
     ]
    },
    {
     "name": "stderr",
     "output_type": "stream",
     "text": [
      "Epoch   8: 100%|████████████████████████████████████████████████████████████████████████████████████████████████████████████████████████████████████████████████████| 1010/1010 [03:40<00:00,  4.58it/s]\n"
     ]
    },
    {
     "name": "stdout",
     "output_type": "stream",
     "text": [
      "eval training data\n"
     ]
    },
    {
     "name": "stderr",
     "output_type": "stream",
     "text": [
      "Evaluation: 100%|███████████████████████████████████████████████████████████████████████████████████████████████████████████████████████████████████████████████████| 1010/1010 [01:31<00:00, 11.10it/s]\n"
     ]
    },
    {
     "name": "stdout",
     "output_type": "stream",
     "text": [
      "Train -  15.890841584158416\n",
      "eval testing data\n"
     ]
    },
    {
     "name": "stderr",
     "output_type": "stream",
     "text": [
      "Evaluation: 100%|█████████████████████████████████████████████████████████████████████████████████████████████████████████████████████████████████████████████████████| 505/505 [00:46<00:00, 10.78it/s]\n"
     ]
    },
    {
     "name": "stdout",
     "output_type": "stream",
     "text": [
      "Test -  15.784158415841585\n",
      "epoch: 7 , best_test_acc: 15.784158415841585\n"
     ]
    },
    {
     "name": "stderr",
     "output_type": "stream",
     "text": [
      "Epoch   9: 100%|████████████████████████████████████████████████████████████████████████████████████████████████████████████████████████████████████████████████████| 1010/1010 [03:16<00:00,  5.15it/s]\n"
     ]
    },
    {
     "name": "stdout",
     "output_type": "stream",
     "text": [
      "eval training data\n"
     ]
    },
    {
     "name": "stderr",
     "output_type": "stream",
     "text": [
      "Evaluation: 100%|███████████████████████████████████████████████████████████████████████████████████████████████████████████████████████████████████████████████████| 1010/1010 [01:31<00:00, 11.05it/s]\n"
     ]
    },
    {
     "name": "stdout",
     "output_type": "stream",
     "text": [
      "Train -  15.732920792079208\n",
      "eval testing data\n"
     ]
    },
    {
     "name": "stderr",
     "output_type": "stream",
     "text": [
      "Evaluation: 100%|█████████████████████████████████████████████████████████████████████████████████████████████████████████████████████████████████████████████████████| 505/505 [00:45<00:00, 11.02it/s]\n"
     ]
    },
    {
     "name": "stdout",
     "output_type": "stream",
     "text": [
      "Test -  15.572277227722772\n"
     ]
    },
    {
     "name": "stderr",
     "output_type": "stream",
     "text": [
      "Epoch  10: 100%|████████████████████████████████████████████████████████████████████████████████████████████████████████████████████████████████████████████████████| 1010/1010 [03:15<00:00,  5.16it/s]\n"
     ]
    },
    {
     "name": "stdout",
     "output_type": "stream",
     "text": [
      "eval training data\n"
     ]
    },
    {
     "name": "stderr",
     "output_type": "stream",
     "text": [
      "Evaluation: 100%|███████████████████████████████████████████████████████████████████████████████████████████████████████████████████████████████████████████████████| 1010/1010 [01:40<00:00, 10.02it/s]\n"
     ]
    },
    {
     "name": "stdout",
     "output_type": "stream",
     "text": [
      "Train -  15.827227722772276\n",
      "eval testing data\n"
     ]
    },
    {
     "name": "stderr",
     "output_type": "stream",
     "text": [
      "Evaluation: 100%|█████████████████████████████████████████████████████████████████████████████████████████████████████████████████████████████████████████████████████| 505/505 [00:46<00:00, 10.95it/s]\n"
     ]
    },
    {
     "name": "stdout",
     "output_type": "stream",
     "text": [
      "Test -  15.661881188118812\n"
     ]
    }
   ],
   "source": [
    "model = pre_resnet18\n",
    "optimizer = optim.SGD(model.parameters(), lr = learning_rate, momentum = momentum, weight_decay=weight_decay)\n",
    "# optimizer = optim.Adam(model.parameters(), lr = learning_rate)\n",
    "train(train_loader, valid_loader, model, optimizer, epochs, path)\n",
    "torch.save(model, os.path.join(path, \"modelv1.pth\"))"
   ]
  },
  {
   "cell_type": "markdown",
   "metadata": {},
   "source": [
    "## Load Model"
   ]
  },
  {
   "cell_type": "code",
   "execution_count": 17,
   "metadata": {},
   "outputs": [],
   "source": [
    "model = torch.load(f\"saved_model/pre_resnet18_v1/best_accuracy.pth\")\n",
    "model.require_grad=False\n",
    "# print(\"eval testing data\")\n",
    "# accuracy_test = evaluate(model, valid_loader, batch_size)\n",
    "# print (\"Test - \", accuracy_test)"
   ]
  },
  {
   "cell_type": "code",
   "execution_count": 18,
   "metadata": {},
   "outputs": [],
   "source": [
    "# char_dict = {}\n",
    "char_list = []\n",
    "with open('./dataset/character_label.csv', 'r', newline='\\n') as file:\n",
    "    rows = csv.reader(file)\n",
    "    next(rows)\n",
    "    for row in rows:\n",
    "        char_list.append(row[1])\n",
    "    file.close()"
   ]
  },
  {
   "cell_type": "code",
   "execution_count": 19,
   "metadata": {},
   "outputs": [
    {
     "name": "stdout",
     "output_type": "stream",
     "text": [
      "['abraham_grampa_simpson', 'agnes_skinner', 'apu_nahasapeemapetilon', 'barney_gumble', 'bart_simpson', 'brandine_spuckler', 'carl_carlson', 'charles_montgomery_burns', 'chief_wiggum', 'cletus_spuckler', 'comic_book_guy', 'disco_stu', 'dolph_starbeam', 'duff_man', 'edna_krabappel', 'fat_tony', 'gary_chalmers', 'gil', 'groundskeeper_willie', 'homer_simpson', 'jimbo_jones', 'kearney_zzyzwicz', 'kent_brockman', 'krusty_the_clown', 'lenny_leonard', 'lionel_hutz', 'lisa_simpson', 'lunchlady_doris', 'maggie_simpson', 'marge_simpson', 'martin_prince', 'mayor_quimby', 'milhouse_van_houten', 'miss_hoover', 'moe_szyslak', 'ned_flanders', 'nelson_muntz', 'otto_mann', 'patty_bouvier', 'principal_skinner', 'professor_john_frink', 'rainier_wolfcastle', 'ralph_wiggum', 'selma_bouvier', 'sideshow_bob', 'sideshow_mel', 'snake_jailbird', 'timothy_lovejoy', 'troy_mcclure', 'waylon_smithers']\n"
     ]
    }
   ],
   "source": [
    "print(char_list)"
   ]
  },
  {
   "cell_type": "code",
   "execution_count": 20,
   "metadata": {},
   "outputs": [
    {
     "name": "stderr",
     "output_type": "stream",
     "text": [
      "Evaluation: 100%|█████████████████████████████████████████████████| 505/505 [01:03<00:00,  7.96it/s]"
     ]
    },
    {
     "name": "stdout",
     "output_type": "stream",
     "text": [
      "length of data:  32309\n"
     ]
    },
    {
     "name": "stderr",
     "output_type": "stream",
     "text": [
      "\n"
     ]
    }
   ],
   "source": [
    "test_prediction, test_label = get_prediction_result(model, valid_loader)\n",
    "print('length of data: ', len(test_label))"
   ]
  },
  {
   "cell_type": "code",
   "execution_count": 21,
   "metadata": {},
   "outputs": [
    {
     "name": "stdout",
     "output_type": "stream",
     "text": [
      "Total Acc 0.9916706474463131\n",
      "[[0.99707602 0.         0.         ... 0.         0.         0.        ]\n",
      " [0.         1.         0.         ... 0.         0.         0.        ]\n",
      " [0.         0.         0.99146515 ... 0.         0.00142248 0.        ]\n",
      " ...\n",
      " [0.         0.         0.         ... 0.9884106  0.         0.        ]\n",
      " [0.         0.         0.         ... 0.         0.98387097 0.        ]\n",
      " [0.         0.0016     0.         ... 0.         0.         0.9888    ]]\n"
     ]
    }
   ],
   "source": [
    "conf_matrix=confusion_matrix(test_label, test_prediction, normalize='true')\n",
    "print('Total Acc', sum([conf_matrix[i][i] for i in range(num_classes) ]) / num_classes)\n",
    "print(conf_matrix)"
   ]
  },
  {
   "cell_type": "code",
   "execution_count": 22,
   "metadata": {},
   "outputs": [],
   "source": [
    "# disp = ConfusionMatrixDisplay.from_predictions(test_label, test_prediction, xticks_rotation='vertical', include_values=False, display_labels=char_list)\n",
    "# fig, ax = plt.subplots(figsize=(30,30))\n",
    "# disp.plot(ax=ax)\n",
    "# plt.savefig(os.path.join(path, \"confusion_matrix.png\"))"
   ]
  },
  {
   "cell_type": "code",
   "execution_count": 23,
   "metadata": {},
   "outputs": [
    {
     "name": "stderr",
     "output_type": "stream",
     "text": [
      "c:\\Users\\USER\\anaconda3\\lib\\site-packages\\sklearn\\utils\\validation.py:70: FutureWarning: Pass display_labels=['abraham_grampa_simpson', 'agnes_skinner', 'apu_nahasapeemapetilon', 'barney_gumble', 'bart_simpson', 'brandine_spuckler', 'carl_carlson', 'charles_montgomery_burns', 'chief_wiggum', 'cletus_spuckler', 'comic_book_guy', 'disco_stu', 'dolph_starbeam', 'duff_man', 'edna_krabappel', 'fat_tony', 'gary_chalmers', 'gil', 'groundskeeper_willie', 'homer_simpson', 'jimbo_jones', 'kearney_zzyzwicz', 'kent_brockman', 'krusty_the_clown', 'lenny_leonard', 'lionel_hutz', 'lisa_simpson', 'lunchlady_doris', 'maggie_simpson', 'marge_simpson', 'martin_prince', 'mayor_quimby', 'milhouse_van_houten', 'miss_hoover', 'moe_szyslak', 'ned_flanders', 'nelson_muntz', 'otto_mann', 'patty_bouvier', 'principal_skinner', 'professor_john_frink', 'rainier_wolfcastle', 'ralph_wiggum', 'selma_bouvier', 'sideshow_bob', 'sideshow_mel', 'snake_jailbird', 'timothy_lovejoy', 'troy_mcclure', 'waylon_smithers'] as keyword args. From version 1.0 (renaming of 0.25) passing these as positional arguments will result in an error\n",
      "  warnings.warn(f\"Pass {args_msg} as keyword args. From version \"\n"
     ]
    },
    {
     "data": {
      "image/png": "[encoded data removed]",
      "text/plain": [
       "<Figure size 2160x2160 with 2 Axes>"
      ]
     },
     "metadata": {
      "needs_background": "light"
     },
     "output_type": "display_data"
    }
   ],
   "source": [
    "disp=ConfusionMatrixDisplay(conf_matrix, char_list)\n",
    "fig, ax = plt.subplots(figsize=(30,30))\n",
    "disp.plot(ax=ax)\n",
    "plt.savefig(os.path.join(path, \"confusion_matrix_normal.png\"))"
   ]
  },
  {
   "cell_type": "code",
   "execution_count": 39,
   "metadata": {},
   "outputs": [
    {
     "name": "stdout",
     "output_type": "stream",
     "text": [
      "> Found 10791 images...\n"
     ]
    }
   ],
   "source": [
    "model.require_grad=False\n",
    "\n",
    "test_data = SimpsonsLoader(\".\", \"test\", test_transforms)\n",
    "# test_loader = DataLoader(test_data, batch_size, shuffle=False, drop_last=False, \n",
    "#                             num_workers=4, prefetch_factor=4)\n",
    "# iter = enumerate(test_loader)\n",
    "# print(next(iter))"
   ]
  },
  {
   "cell_type": "code",
   "execution_count": 40,
   "metadata": {},
   "outputs": [
    {
     "name": "stdout",
     "output_type": "stream",
     "text": [
      "length of result:  10791\n"
     ]
    }
   ],
   "source": [
    "test_prediction = get_prediction_result_wo_label(model, test_data)\n",
    "print('length of result: ', len(test_prediction))"
   ]
  },
  {
   "cell_type": "code",
   "execution_count": 41,
   "metadata": {},
   "outputs": [
    {
     "name": "stdout",
     "output_type": "stream",
     "text": [
      "[17. 11. 38.  7. 26. 29. 24. 21. 46. 25. 35.  8.  8. 43. 35. 16. 43. 23.\n",
      " 16. 25.]\n"
     ]
    }
   ],
   "source": [
    "print(test_prediction[:20])"
   ]
  },
  {
   "cell_type": "code",
   "execution_count": 42,
   "metadata": {},
   "outputs": [],
   "source": [
    "with open('./dataset/submission_v1.csv', 'w', newline='') as file:\n",
    "    writer = csv.writer(file)\n",
    "    writer.writerow([\"id\", \"character\"])\n",
    "    for i, p in enumerate(test_prediction):\n",
    "        writer.writerow([i+1, char_list[int(p)]])\n",
    "    file.close()"
   ]
  },
  {
   "cell_type": "code",
   "execution_count": null,
   "metadata": {},
   "outputs": [],
   "source": []
  }
 ],
 "metadata": {
  "kernelspec": {
   "display_name": "Python 3 (ipykernel)",
   "language": "python",
   "name": "python3"
  },
  "language_info": {
   "codemirror_mode": {
    "name": "ipython",
    "version": 3
   },
   "file_extension": ".py",
   "mimetype": "text/x-python",
   "name": "python",
   "nbconvert_exporter": "python",
   "pygments_lexer": "ipython3",
   "version": "3.9.7"
  },
  "vscode": {
   "interpreter": {
    "hash": "263930470851f494f0ed2879c35b57985588df20f9e529b86e97dd5eb9ddc466"
   }
  }
 },
 "nbformat": 4,
 "nbformat_minor": 2
}
